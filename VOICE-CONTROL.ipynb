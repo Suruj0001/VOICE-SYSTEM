{
 "cells": [
  {
   "cell_type": "code",
   "execution_count": 1,
   "id": "4f949ae4",
   "metadata": {},
   "outputs": [
    {
     "name": "stdout",
     "output_type": "stream",
     "text": [
      "Requirement already satisfied: pyttsx3 in c:\\users\\suruj\\anaconda3\\lib\\site-packages (2.90)Note: you may need to restart the kernel to use updated packages.\n"
     ]
    },
    {
     "name": "stderr",
     "output_type": "stream",
     "text": [
      "WARNING: Ignoring invalid distribution -pencv-python (c:\\users\\suruj\\anaconda3\\lib\\site-packages)\n",
      "WARNING: Ignoring invalid distribution -pencv-python (c:\\users\\suruj\\anaconda3\\lib\\site-packages)\n",
      "WARNING: Ignoring invalid distribution -pencv-python (c:\\users\\suruj\\anaconda3\\lib\\site-packages)\n",
      "WARNING: Ignoring invalid distribution -pencv-python (c:\\users\\suruj\\anaconda3\\lib\\site-packages)\n",
      "WARNING: Ignoring invalid distribution -pencv-python (c:\\users\\suruj\\anaconda3\\lib\\site-packages)\n",
      "WARNING: Ignoring invalid distribution -pencv-python (c:\\users\\suruj\\anaconda3\\lib\\site-packages)\n"
     ]
    },
    {
     "name": "stdout",
     "output_type": "stream",
     "text": [
      "\n",
      "Requirement already satisfied: comtypes in c:\\users\\suruj\\anaconda3\\lib\\site-packages (from pyttsx3) (1.1.10)\n",
      "Requirement already satisfied: pypiwin32 in c:\\users\\suruj\\anaconda3\\lib\\site-packages (from pyttsx3) (223)\n",
      "Requirement already satisfied: pywin32 in c:\\users\\suruj\\anaconda3\\lib\\site-packages (from pyttsx3) (305.1)\n"
     ]
    }
   ],
   "source": [
    "pip install pyttsx3"
   ]
  },
  {
   "cell_type": "code",
   "execution_count": 16,
   "id": "4523fa9d",
   "metadata": {},
   "outputs": [],
   "source": [
    "import pyttsx3\n",
    "import datetime"
   ]
  },
  {
   "cell_type": "code",
   "execution_count": 17,
   "id": "00908482",
   "metadata": {},
   "outputs": [],
   "source": [
    "engine = pyttsx3.init('sapi5')\n",
    "voices = engine.getProperty('voices')\n",
    "#print(voices)\n",
    "engine.setProperty('voice', voices[0].id)"
   ]
  },
  {
   "cell_type": "code",
   "execution_count": 18,
   "id": "ae9d8cc4",
   "metadata": {},
   "outputs": [],
   "source": [
    "def speak(audio):\n",
    "    engine.say(audio)\n",
    "    engine.runAndWait()"
   ]
  },
  {
   "cell_type": "code",
   "execution_count": 19,
   "id": "772801c6",
   "metadata": {},
   "outputs": [],
   "source": [
    "if __name__ == \"__main__\":\n",
    "    speak(\"Suruj is a legend he is Alimghty and PROGRAMMING KING\")"
   ]
  },
  {
   "cell_type": "code",
   "execution_count": 20,
   "id": "89cf68fe",
   "metadata": {},
   "outputs": [],
   "source": [
    "def wishMe():\n",
    "    hour = int(datetime.datetime.now().hour)\n",
    "    if hour>=0 and hour<12:\n",
    "        speak(\"Good Morning !\")\n",
    "        \n",
    "    elif hour>=12 and hour<18:\n",
    "        speak(\"Good Afternoon\")\n",
    "        \n",
    "    else:\n",
    "        speak(\"Good Evening\")\n",
    "        \n",
    "    speak(\"I am Pie Sir . Please let me know If you have any Questions feel free . You are my King White lips, pale face, breathing in the snowflakes It's too cold outside, for angels to fly. Not many people can sing these words with the same amount of heart and feeling as this one amazing, talented, English singer I have in mind. How many people can say they've helped write songs for one of the world's most popular bands today? How many people can say they left their homeland to go live on a stranger's couch in an unknown country to record their first album? How many people can say they've been nominated for Song of the Year at the Grammy Awards after having performed that same song with Sir Elton John? Practically no one, except for Edward Christopher Sheeran, or as most people would know him by, Ed Sheeran.When most people think of a role model nowadays, they think of people like Ellen DeGeneres or Barrack Obama. But when I think of a role model, I think of Ed Sheeran. His background is incredible. He was born in a small town called Halifax in England and moved to another small town called Framlingham where he raised and learned music. After recording his first few EPs there, he moved to London in 2008 to play gigs starting off in small venues and for sometimes as little as 5 people. After playing more and more gigs as the years passed, he left his old management company and moved to Los Angeles in 2010. He played open mic nights all over the city until his talent was spotted by Jamie Foxx, who was so impressed that he offered Sheeran the use of his recording studio and the run of his Hollywood home for the rest of his stay\")"
   ]
  },
  {
   "cell_type": "code",
   "execution_count": 21,
   "id": "94953d0d",
   "metadata": {},
   "outputs": [],
   "source": [
    "if __name__ == \"__main__\":\n",
    "    wishMe()"
   ]
  },
  {
   "cell_type": "code",
   "execution_count": 52,
   "id": "4c218bb2",
   "metadata": {},
   "outputs": [
    {
     "name": "stdout",
     "output_type": "stream",
     "text": [
      "Note: you may need to restart the kernel to use updated packages.\n"
     ]
    },
    {
     "name": "stderr",
     "output_type": "stream",
     "text": [
      "WARNING: Ignoring invalid distribution -pencv-python (c:\\users\\suruj\\anaconda3\\lib\\site-packages)\n",
      "WARNING: Ignoring invalid distribution -pencv-python (c:\\users\\suruj\\anaconda3\\lib\\site-packages)\n",
      "ERROR: Could not find a version that satisfies the requirement speech_recognition (from versions: none)\n",
      "ERROR: No matching distribution found for speech_recognition\n",
      "WARNING: Ignoring invalid distribution -pencv-python (c:\\users\\suruj\\anaconda3\\lib\\site-packages)\n",
      "WARNING: Ignoring invalid distribution -pencv-python (c:\\users\\suruj\\anaconda3\\lib\\site-packages)\n",
      "WARNING: Ignoring invalid distribution -pencv-python (c:\\users\\suruj\\anaconda3\\lib\\site-packages)\n"
     ]
    }
   ],
   "source": [
    "#pip install speech_recognition"
   ]
  },
  {
   "cell_type": "code",
   "execution_count": 10,
   "id": "b4afc153",
   "metadata": {},
   "outputs": [],
   "source": [
    "#import speech_recognition as sr"
   ]
  },
  {
   "cell_type": "code",
   "execution_count": 11,
   "id": "17bac9f2",
   "metadata": {},
   "outputs": [],
   "source": [
    "# def takeCommand():\n",
    "#     r = sr.Recognizer()\n",
    "#     with sr.MicroPhone() as source:\n",
    "#         print(\"Listening...\")\n",
    "#         r.pause_threshold = 1\n",
    "#         audio = r.listen(source)\n",
    "        \n",
    "#     try:\n",
    "#         print(\"Recognition...\")\n",
    "#         query = r.recognize_google(audio, language=\"en-in\")\n",
    "#         print(f\"user said: {query}\\n\")\n",
    "        \n",
    "#     except Exception as o:\n",
    "#         #print(0)\n",
    "        \n",
    "#         print(\"Say Something please\")\n",
    "#         return None\n",
    "    \n",
    "#     return query"
   ]
  },
  {
   "cell_type": "code",
   "execution_count": 22,
   "id": "f0ea0253",
   "metadata": {},
   "outputs": [],
   "source": [
    "# if __name__ == \"__main__\":\n",
    "#     takeCommand()"
   ]
  },
  {
   "cell_type": "code",
   "execution_count": null,
   "id": "23db92b1",
   "metadata": {},
   "outputs": [],
   "source": []
  }
 ],
 "metadata": {
  "kernelspec": {
   "display_name": "Python 3 (ipykernel)",
   "language": "python",
   "name": "python3"
  },
  "language_info": {
   "codemirror_mode": {
    "name": "ipython",
    "version": 3
   },
   "file_extension": ".py",
   "mimetype": "text/x-python",
   "name": "python",
   "nbconvert_exporter": "python",
   "pygments_lexer": "ipython3",
   "version": "3.9.13"
  }
 },
 "nbformat": 4,
 "nbformat_minor": 5
}
